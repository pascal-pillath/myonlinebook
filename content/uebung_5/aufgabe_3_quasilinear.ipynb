{
 "cells": [
  {
   "cell_type": "code",
   "execution_count": 113,
   "metadata": {},
   "outputs": [
    {
     "data": {
      "application/vnd.jupyter.widget-view+json": {
       "model_id": "1fce79aa892643a6afbbcd2a5e9eca99",
       "version_major": 2,
       "version_minor": 0
      },
      "text/plain": [
       "Figure(axes=[Axis(label='x1', num_ticks=0, scale=LinearScale()), Axis(label='x2', num_ticks=0, orientation='ve…"
      ]
     },
     "metadata": {},
     "output_type": "display_data"
    },
    {
     "data": {
      "application/vnd.jupyter.widget-view+json": {
       "model_id": "21d0a3a0bb284f7aaeb47c81e9216a0c",
       "version_major": 2,
       "version_minor": 0
      },
      "text/plain": [
       "FloatSlider(value=0.0, description='m :', max=2.0)"
      ]
     },
     "metadata": {},
     "output_type": "display_data"
    },
    {
     "data": {
      "application/vnd.jupyter.widget-view+json": {
       "model_id": "7669e121a0e7494e9b17a57197d239d3",
       "version_major": 2,
       "version_minor": 0
      },
      "text/plain": [
       "Output()"
      ]
     },
     "metadata": {},
     "output_type": "display_data"
    }
   ],
   "source": [
    "from bqplot import  LinearScale,Axis,Lines,Figure,Label,Scatter\n",
    "import numpy as np\n",
    "\n",
    "import ipywidgets as widgets\n",
    "\n",
    "\n",
    "\n",
    "\n",
    "###General Setup\n",
    "\n",
    "# Axes\n",
    "x_sc = LinearScale()\n",
    "y_sc = LinearScale()\n",
    "\n",
    "ax_x = Axis(label='x1', scale=x_sc, num_ticks = 0)\n",
    "\n",
    "\n",
    "ax_y = Axis(label='x2', scale=y_sc,\n",
    "            orientation='vertical', num_ticks = 0)\n",
    "\n",
    "\n",
    "\n",
    "#vertical\n",
    "ax_vertical = Lines( x=[0,0],\n",
    "                    y= [0, 3], \n",
    "                    scales={'x': x_sc, 'y': y_sc}, \n",
    "                    colors=['black']\n",
    "                   )\n",
    "\n",
    "ax_hor1 = Lines( x=[-1,3],\n",
    "                    y= [0, 0], \n",
    "                    scales={'x': x_sc, 'y': y_sc}, \n",
    "                    colors=['black']\n",
    "                   )\n",
    "\n",
    "\n",
    "###Main Lines\n",
    "\n",
    "#g1\n",
    "x1=np.arange(-1,0.7,0.1)\n",
    "g1 = Lines( x=x1,\n",
    "            y=(0.6-x1)**2,\n",
    "            scales={'x': x_sc, 'y': y_sc},\n",
    "            colors=['black'],\n",
    "            display_legend=True, \n",
    "            labels=['Indifferenzkurve'])\n",
    "\n",
    "\n",
    "x2=np.arange(-1,0.1,0.1)\n",
    "g2 = Lines( x=x2,\n",
    "            y= -24/10 *x2,\n",
    "            scales={'x': x_sc, 'y': y_sc},\n",
    "            colors=['red'],\n",
    "            display_legend=True, \n",
    "            labels=['Budgetgerade'])\n",
    "\n",
    "###help line (dashed)\n",
    "\n",
    "t1 = 144/100\n",
    "\n",
    "#vertical\n",
    "g_vertical = Lines( x=[0,0],\n",
    "                    y= [0, t1], \n",
    "                    scales={'x': x_sc, 'y': y_sc}, \n",
    "                    colors=['Blue'], \n",
    "                    line_style ='dashed')\n",
    "\n",
    "#horizontal\n",
    "g_horiz = Lines(x=[0,3],\n",
    "                y= [t1, t1], \n",
    "                scales={'x': x_sc, 'y': y_sc}, \n",
    "                colors=['Blue'], \n",
    "                line_style ='dashed',\n",
    "                display_legend=True,\n",
    "                labels=['Einkommensexpansionspfad'])\n",
    "\n",
    "\n",
    "\n",
    "#Marks\n",
    "\n",
    "optimum = Scatter(x=[0], y=[0], default_size=70,font_weight='normal', colors=['Blue'],\n",
    "             scales={'x': x_sc, 'y': y_sc})\n",
    "\n",
    "\n",
    "\n",
    "### Text boxes\n",
    "\n",
    "lab1 = Label(x=[t1], y=[-0.3], default_size=14,font_weight='normal', colors=['black'],\n",
    "             scales={'x': x_sc, 'y': y_sc},\n",
    "            text=[\"t1 = \"+ str(t1)], enable_move=True, align = 'middle')\n",
    "\n",
    "lab2 = Label(x=[t1], y=[-0.7], default_size=14,font_weight='normal', colors=['black'],\n",
    "             scales={'x': x_sc, 'y': y_sc},\n",
    "             text=[\"t2 = \"+ str(60-t1)], enable_move=True, align = 'middle')\n",
    "\n",
    "\n",
    "\n",
    "\n",
    "\n",
    "\n",
    "### Show Figure\n",
    "fig = Figure(axes=[ax_x, ax_y], \n",
    "             marks=[ax_vertical,\n",
    "                    ax_hor1,\n",
    "                    g1,\n",
    "                    g2,\n",
    "                    g_vertical,\n",
    "                    g_horiz,\n",
    "                    optimum,\n",
    "                    ],\n",
    "\n",
    "            legend_location='top',\n",
    "            background_style = {'fill':'white'}\n",
    "            )\n",
    "\n",
    "\n",
    "display(fig)\n",
    "\n",
    "\n",
    "\n",
    "#Section for the Interactive parameters\n",
    "\n",
    "int_range = widgets.FloatSlider(  description='m :',\n",
    "                                    value = 0, min=0, max=2, step = 0.1)\n",
    "output2 = widgets.Output()\n",
    "display(int_range, output2)\n",
    "\n",
    "\n",
    "def on_value_change(change):\n",
    "    with output2:\n",
    "        \n",
    "        \n",
    "        m = change['new']\n",
    "        \n",
    "        \n",
    "        \n",
    "        \n",
    "        \n",
    "        x1m = x1=np.arange(-1+m,0.7+m,0.1)\n",
    "        \n",
    "        g1.x = x1m\n",
    "        \n",
    "        x2m=np.arange(-1+m,0.1+m,0.1)\n",
    "        \n",
    "        g2.x = x2m\n",
    "        \n",
    "        if m <= 0.6:\n",
    "            optimum.y = [24/10 *m]\n",
    "            optimum.x = [0]\n",
    "        else:\n",
    "            optimum.y = [24/10 *0.6]\n",
    "            optimum.x = [(m-0.6)]\n",
    "int_range.observe(on_value_change, names='value')\n"
   ]
  },
  {
   "cell_type": "code",
   "execution_count": null,
   "metadata": {},
   "outputs": [],
   "source": []
  }
 ],
 "metadata": {
  "kernelspec": {
   "display_name": "Python 3",
   "language": "python",
   "name": "python3"
  },
  "language_info": {
   "codemirror_mode": {
    "name": "ipython",
    "version": 3
   },
   "file_extension": ".py",
   "mimetype": "text/x-python",
   "name": "python",
   "nbconvert_exporter": "python",
   "pygments_lexer": "ipython3",
   "version": "3.6.4"
  },
  "varInspector": {
   "cols": {
    "lenName": 16,
    "lenType": 16,
    "lenVar": 40
   },
   "kernels_config": {
    "python": {
     "delete_cmd_postfix": "",
     "delete_cmd_prefix": "del ",
     "library": "var_list.py",
     "varRefreshCmd": "print(var_dic_list())"
    },
    "r": {
     "delete_cmd_postfix": ") ",
     "delete_cmd_prefix": "rm(",
     "library": "var_list.r",
     "varRefreshCmd": "cat(var_dic_list()) "
    }
   },
   "types_to_exclude": [
    "module",
    "function",
    "builtin_function_or_method",
    "instance",
    "_Feature"
   ],
   "window_display": false
  }
 },
 "nbformat": 4,
 "nbformat_minor": 2
}
