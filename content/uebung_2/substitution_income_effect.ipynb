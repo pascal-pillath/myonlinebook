{
 "cells": [
  {
   "cell_type": "code",
   "execution_count": 1,
   "metadata": {},
   "outputs": [
    {
     "data": {
      "application/vnd.jupyter.widget-view+json": {
       "model_id": "e9a49f45e0574ef0904b586b5d632134",
       "version_major": 2,
       "version_minor": 0
      },
      "text/plain": [
       "Figure(axes=[Axis(label='Zeit', scale=LinearScale(), tick_format='0.0f', tick_values=array([ 0, 60])), Axis(la…"
      ]
     },
     "metadata": {},
     "output_type": "display_data"
    },
    {
     "data": {
      "application/vnd.jupyter.widget-view+json": {
       "model_id": "908429b2f4a7448db145e71c659fe26e",
       "version_major": 2,
       "version_minor": 0
      },
      "text/plain": [
       "FloatSlider(value=5.0, description='t1 :', max=10.0, min=4.1, step=0.2)"
      ]
     },
     "metadata": {},
     "output_type": "display_data"
    },
    {
     "data": {
      "application/vnd.jupyter.widget-view+json": {
       "model_id": "21b844913431490eb8d51c6f132adbd4",
       "version_major": 2,
       "version_minor": 0
      },
      "text/plain": [
       "Output()"
      ]
     },
     "metadata": {},
     "output_type": "display_data"
    }
   ],
   "source": [
    "\n",
    "from bqplot import  LinearScale,Axis,Lines,Figure,Label\n",
    "import numpy as np\n",
    "\n",
    "import ipywidgets as widgets\n",
    "\n",
    "\n",
    "\n",
    "tab_contents = ['P0', 'P1', 'P2', 'P3', 'P4']\n",
    "children = [widgets.Text(description=name) for name in tab_contents]\n",
    "tab = widgets.Tab()\n",
    "tab.children = children\n",
    "for i in range(len(children)):\n",
    "    tab.set_title(i, str(i))\n",
    "tab\n",
    "\n",
    "\n",
    "\n",
    "\n",
    "\n",
    "\n",
    "\n",
    "\n",
    "###General Setup\n",
    "\n",
    "#budget\n",
    "\n",
    "m  =  100\n",
    "p1 =  4\n",
    "p2 =  1\n",
    "\n",
    "p1_ = 5\n",
    "\n",
    "\n",
    "\n",
    "\n",
    "# Axes\n",
    "x_sc = LinearScale()\n",
    "y_sc = LinearScale()\n",
    "\n",
    "ax_x = Axis(label='Zeit', scale=x_sc, tick_format='0.0f',tick_values =[0, 60])\n",
    "\n",
    "\n",
    "ax_y = Axis(label='Test Y', scale=y_sc,\n",
    "            orientation='vertical', tick_format='0.2f')\n",
    "\n",
    "ax_y2 = Axis(label='Test Y2', scale=y_sc,\n",
    "            orientation='vertical', tick_format='0.2f', side = 'right')\n",
    "\n",
    "\n",
    "#horizontal\n",
    "ax_hor = Lines( x=[0,40],\n",
    "                    y= [0, 0], \n",
    "                    scales={'x': x_sc, 'y': y_sc}, \n",
    "                    colors=['black']\n",
    "                   )\n",
    "\n",
    "#vertical\n",
    "ax_ver1 = Lines( x=[0,0],\n",
    "                    y= [0, 100], \n",
    "                    scales={'x': x_sc, 'y': y_sc}, \n",
    "                    colors=['red']\n",
    "                   )\n",
    "\n",
    "\n",
    "\n",
    "\n",
    "\n",
    "\n",
    "###Main Lines\n",
    "\n",
    "\n",
    "#g1\n",
    "g1 = Lines( x=[0, m/p1],\n",
    "            y= [m/p2, 0],\n",
    "            scales={'x': x_sc, 'y': y_sc},\n",
    "            colors=['blue', 'yellow'],\n",
    "            display_legend=True, \n",
    "            labels=['Marginal Utility g1'])\n",
    "\n",
    "\n",
    "#g1\n",
    "g2 = Lines( x=[0, m/p1_],\n",
    "            y= [m/p2, 0],\n",
    "            scales={'x': x_sc, 'y': y_sc},\n",
    "            colors=['blue', 'yellow'],\n",
    "            display_legend=True, \n",
    "            labels=['Marginal Utility g1'])\n",
    "\n",
    "\n",
    "\n",
    "##Indifference curves\n",
    "\n",
    "x = np.arange(1,10,1)\n",
    "\n",
    "ind1= Lines( x=x,\n",
    "            y= np.log(x) -2*np.log(x),\n",
    "            scales={'x': x_sc, 'y': y_sc},\n",
    "            colors=['red', 'yellow'],\n",
    "            display_legend=True, \n",
    "            labels=['Marginal Utility g1'])\n",
    "\n",
    "\n",
    "\n",
    "\n",
    "\n",
    "\n",
    "\n",
    "###help line (dashed)\n",
    "\n",
    "t1 = 11.11\n",
    "\n",
    "#vertical\n",
    "g_vertical = Lines( x=[t1,t1],\n",
    "                    y= [0, 5*t1**(-0.5)], \n",
    "                    scales={'x': x_sc, 'y': y_sc}, \n",
    "                    colors=['orange'], \n",
    "                    line_style ='dashed')\n",
    "\n",
    "#horizontal\n",
    "g_horiz = Lines(x=[0,t1],\n",
    "                y= [5*t1**(-0.5), 5*t1**(-0.5)], \n",
    "                scales={'x': x_sc, 'y': y_sc}, \n",
    "                colors=['orange'], \n",
    "                line_style ='dashed')\n",
    "\n",
    "\n",
    "\n",
    "\n",
    "\n",
    "\n",
    "\n",
    "### Text boxes\n",
    "\n",
    "lab1 = Label(x=[t1], y=[-0.3], default_size=14,font_weight='normal', colors=['black'],scales={'x': x_sc, 'y': y_sc},\n",
    "                   text=[\"t1 = \"+ str(t1)], enable_move=True, align = 'middle')\n",
    "\n",
    "lab2 = Label(x=[t1], y=[-0.7], default_size=14,font_weight='normal', colors=['black'],scales={'x': x_sc, 'y': y_sc},\n",
    "                   text=[\"t2 = \"+ str(60-t1)], enable_move=True, align = 'middle')\n",
    "\n",
    "\n",
    "\n",
    "\n",
    "\n",
    "\n",
    "\n",
    "\n",
    "\n",
    "### Show Figure\n",
    "fig = Figure(axes=[ax_x, ax_y, ax_y2], \n",
    "             marks=[g1, \n",
    "                    g2, \n",
    "                    g_vertical, \n",
    "                    g_horiz, \n",
    "                    lab1,\n",
    "                    lab2,\n",
    "                   ind1],\n",
    "\n",
    "            legend_location='top-right',\n",
    "            #background_style = {'fill':'white'}\n",
    "            )\n",
    "\n",
    "\n",
    "display(fig)\n",
    "\n",
    "\n",
    "\n",
    "#Section for the Interactive parameters\n",
    "\n",
    "int_range = widgets.FloatSlider(  description='t1 :',value = 5, min=4.1, max=10, step = 0.2)\n",
    "output2 = widgets.Output()\n",
    "display(int_range, output2)\n",
    "\n",
    "\n",
    "def on_value_change(change):\n",
    "    with output2:\n",
    "        \n",
    "        \n",
    "        p1_ = change['new']\n",
    "        \n",
    "        \n",
    "        g2.x= [0, m/p1_]\n",
    "    \n",
    "\n",
    "        \n",
    "int_range.observe(on_value_change, names='value')\n",
    "\n"
   ]
  },
  {
   "cell_type": "code",
   "execution_count": 35,
   "metadata": {},
   "outputs": [
    {
     "data": {
      "application/vnd.jupyter.widget-view+json": {
       "model_id": "d2a72b7450e54e46b5ad1112409c0c1b",
       "version_major": 2,
       "version_minor": 0
      },
      "text/plain": [
       "VBox(children=(Figure(camera=PerspectiveCamera(fov=46.0, position=(0.0, 0.0, 2.0), quaternion=(0.0, 0.0, 0.0, …"
      ]
     },
     "metadata": {},
     "output_type": "display_data"
    },
    {
     "name": "stdout",
     "output_type": "stream",
     "text": [
      "(100,)\n",
      "(100,)\n",
      "(100,)\n",
      "(10,)\n",
      "(10,)\n",
      "(10,)\n"
     ]
    }
   ],
   "source": [
    "import ipyvolume as ipv\n",
    "import numpy as np\n",
    "\n",
    "x  = np.arange(0,100,1) \n",
    "y  = np.arange(0,100,1)\n",
    "\n",
    "z = np.arange(0,100,1)\n",
    "fig = ipv.figure()\n",
    "scatter = ipv.scatter(x,y,z, marker='sphere')\n",
    "ipv.show()\n",
    "\n",
    "\n",
    "print(x.shape)\n",
    "print(y.shape)\n",
    "print(z.shape)\n",
    "\n",
    "\n",
    "i = np.arange(0,10,1) \n",
    "o = np.arange(0,10,1) \n",
    "print(u.shape)\n",
    "print(i.shape)\n",
    "print(o.shape)"
   ]
  },
  {
   "cell_type": "code",
   "execution_count": null,
   "metadata": {},
   "outputs": [],
   "source": []
  }
 ],
 "metadata": {
  "kernelspec": {
   "display_name": "Python 3",
   "language": "python",
   "name": "python3"
  },
  "language_info": {
   "codemirror_mode": {
    "name": "ipython",
    "version": 3
   },
   "file_extension": ".py",
   "mimetype": "text/x-python",
   "name": "python",
   "nbconvert_exporter": "python",
   "pygments_lexer": "ipython3",
   "version": "3.6.4"
  },
  "varInspector": {
   "cols": {
    "lenName": 16,
    "lenType": 16,
    "lenVar": 40
   },
   "kernels_config": {
    "python": {
     "delete_cmd_postfix": "",
     "delete_cmd_prefix": "del ",
     "library": "var_list.py",
     "varRefreshCmd": "print(var_dic_list())"
    },
    "r": {
     "delete_cmd_postfix": ") ",
     "delete_cmd_prefix": "rm(",
     "library": "var_list.r",
     "varRefreshCmd": "cat(var_dic_list()) "
    }
   },
   "types_to_exclude": [
    "module",
    "function",
    "builtin_function_or_method",
    "instance",
    "_Feature"
   ],
   "window_display": false
  }
 },
 "nbformat": 4,
 "nbformat_minor": 4
}
