{
 "cells": [
  {
   "cell_type": "markdown",
   "metadata": {},
   "source": [
    "# Aufgabe 1 - Optimale Entscheidung\n",
    "\n",
    "Der Student moöchte seine Durchschnittsnote maximieren. Da eine zeitliche Beschränkung besteht, nämlich die wöchentlich maximal zur Verfu ̈gung stehende Arbeitszeit, nutzen wir die Lagrange Methode.\n",
    "\n",
    "\n",
    "Nun setzen wir die gegebenen Funktionen fu ̈r $$g_1(t_1)$$ und $$g_2(t_2)$$ ein und stellen den Lagrange auf. λ ist der\n",
    "Lagrangeparameter und wird mit der so genannten Budgetbeschr ̈ankung in den Lagrange eingebracht.\n",
    "\n",
    "$$\n",
    "\\max \\frac{g_1(t_1)+g_2(t_2)}{2} \\hspace{1cm} \\text{s.t.} \\hspace{0.5cm} \\underbrace{60}_{\\text{maximal verf¸gbare Zeit}}\\geq\\underbrace{t_1+t_2}_{\\text{Summe der Ausgaben}}\n",
    "$$\n",
    "\n",
    "<br/><br/>\n",
    "Die notwendigen Bedingungen erster Ordnung ergeben sich durch die partielle Ableitung des Lagrange nach den Entscheidungsvariablen. Der Student mo ̈chte seine Noten maximieren. Diese ha ̈ngen von der Zeit ab, die er fu ̈r das jeweilige Fach lernt. Darum leiten wir nach t1 und nach t2 ab. Nicht vergessen: Es wird immer auch nach λ abgeleitet! Die Ableitungen werden = 0 gesetzt, da wir nach Extrema suchen.\n"
   ]
  },
  {
   "cell_type": "markdown",
   "metadata": {},
   "source": [
    "<br/><br/>\n",
    "Schauen wir noch einmal auf die Bedingungen erster Ordnung:\n",
    "Die 3 aus Gleichung II ist der Beitrag zur Durchschnittsnote wenn fu ̈r das Lernen fu ̈r Fach 2 marginal 2\n",
    "mehr Zeit genutzt wird.\n",
    "−1\n",
    "2 aus Gleichung I ist der marginale Beitrag zur Durchschnittsnote durch Lernen fu ̈r Fach 1.\n",
    "          Die 5t\n",
    "1\n",
    "1\n",
    "Betrachten wir noch einmal unsere Lo ̈sung. Ein Schaubild verdeutlicht dies noch einmal:\n",
    "\n",
    "(Falls das Schaubild nicht zusehen sein sollte, klicke oben auf der Seite auf \"Show Widgets\"! Dies kann ein paar Momente dauern. Bwege anschließend den slider.)"
   ]
  },
  {
   "cell_type": "code",
   "execution_count": 24,
   "metadata": {
    "tags": [
     "interactive",
     "hide_input"
    ]
   },
   "outputs": [
    {
     "data": {
      "application/vnd.jupyter.widget-view+json": {
       "model_id": "4b02d3760bd94f4c8988e1b3afeae1cd",
       "version_major": 2,
       "version_minor": 0
      },
      "text/plain": [
       "interactive(children=(FloatSlider(value=11.11, description='t1', max=24.11, min=3.11, step=4.0), Output()), _d…"
      ]
     },
     "metadata": {},
     "output_type": "display_data"
    }
   ],
   "source": [
    "\n",
    "from ipywidgets import interact, interactive, fixed, interact_manual\n",
    "import ipywidgets as widgets\n",
    "import matplotlib.pyplot as plt\n",
    "import numpy as np\n",
    "\n",
    "\n",
    "# Size of the picture when created later..\n",
    "import matplotlib as mpl\n",
    "mpl.rcParams['figure.dpi'] = 90\n",
    "\n",
    "\n",
    "def myplt(t1):\n",
    "\n",
    "    \n",
    "    #AXES\n",
    "    plt.axis([0, 60, 0, 6]) #define axis dimensions\n",
    "    plt.tick_params(\n",
    "        axis='x',          # changes apply to the x-axis\n",
    "        which='both',      # both major and minor ticks are affected\n",
    "        bottom=False,      # ticks along the bottom edge are off\n",
    "        top=False,         # ticks along the top edge are off\n",
    "        labelbottom=False) # labels along the bottom edge are off\n",
    "    \n",
    "    \n",
    "    \n",
    "    \n",
    "    #g1 line\n",
    "    x_limit = np.arange(1,61,1)\n",
    "    g1 = 5*x_limit**(-0.5)  #define g1 line\n",
    "    plt.plot(x_limit,g1,color='blue')    #plot the g1 line\n",
    "    \n",
    "    #g2line\n",
    "    x = np.arange(0,61,1)\n",
    "    g2 = 3/2+x*0    #define g2 line with +x*0, so that each x has one g2 value. otherwise the diemensions dont match later\n",
    "    plt.plot(x,g2,color='red')   #plot g2 line\n",
    "    \n",
    "    \n",
    "    # Blue Dashed Line\n",
    "    plt.plot( (t1,t1)  ,   (0,5*t1**(-0.5))       ,color='black', linestyle='dashed') #vertical\n",
    "    plt.plot((0, t1), (5*t1**(-0.5),5*t1**(-0.5)) ,color='black', linestyle='dashed') #horizontal\n",
    "    \n",
    "    # Red Dashed Line\n",
    "    #plt.plot( (t1,t1)  ,   (0,5*t1**(-0.5))       ,color='Red', linestyle='dashed') #vertical\n",
    "    #plt.plot((0, t1), (5*t1**(-0.5),5*t1**(-0.5)) ,color='Red', linestyle='dashed') #horizontal\n",
    "    \n",
    "    \n",
    "    \n",
    "    \n",
    "\n",
    "    plt.text(t1-2, -0.4, \"t1 =\" + str(t1), family=\"serif\")  # number label beneath the x-axis  \n",
    "    plt.text(t1-2, -0.8, \"t2 =\" + str(60-t1), family=\"serif\")\n",
    "    \n",
    "    \n",
    "    if t1 == 11.11:\n",
    "        relation = \"=\"\n",
    "    elif t1 >= 11.11:\n",
    "        relation = \">\"\n",
    "    else:\n",
    "        relation = \"<\"\n",
    "    \n",
    "\n",
    "    plt.text(-39, 3/2, \"marginal utility g2\", color='red',family=\"serif\")\n",
    "    plt.text(-22, 5*t1**(-0.5) , relation + \" marginal utility g1\", color='blue',family=\"serif\")\n",
    " \n",
    "\n",
    "\n",
    "\n",
    "interact(myplt, t1=(3.11,24.11,4));\n",
    "\n",
    "\n",
    "\n"
   ]
  },
  {
   "cell_type": "markdown",
   "metadata": {},
   "source": []
  }
 ],
 "metadata": {
  "celltoolbar": "Tags",
  "kernelspec": {
   "display_name": "Python 3",
   "language": "python",
   "name": "python3"
  },
  "language_info": {
   "codemirror_mode": {
    "name": "ipython",
    "version": 3
   },
   "file_extension": ".py",
   "mimetype": "text/x-python",
   "name": "python",
   "nbconvert_exporter": "python",
   "pygments_lexer": "ipython3",
   "version": "3.6.4"
  },
  "varInspector": {
   "cols": {
    "lenName": 16,
    "lenType": 16,
    "lenVar": 40
   },
   "kernels_config": {
    "python": {
     "delete_cmd_postfix": "",
     "delete_cmd_prefix": "del ",
     "library": "var_list.py",
     "varRefreshCmd": "print(var_dic_list())"
    },
    "r": {
     "delete_cmd_postfix": ") ",
     "delete_cmd_prefix": "rm(",
     "library": "var_list.r",
     "varRefreshCmd": "cat(var_dic_list()) "
    }
   },
   "types_to_exclude": [
    "module",
    "function",
    "builtin_function_or_method",
    "instance",
    "_Feature"
   ],
   "window_display": false
  }
 },
 "nbformat": 4,
 "nbformat_minor": 2
}
