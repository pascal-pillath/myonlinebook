{
 "cells": [
  {
   "cell_type": "markdown",
   "metadata": {},
   "source": [
    "# Aufgabe 1 \n",
    "Blablabla \n",
    "\n",
    "## Angebot Nachfrage \n",
    "blabla"
   ]
  },
  {
   "cell_type": "code",
   "execution_count": 34,
   "metadata": {
    "tags": [
     "interactive"
    ]
   },
   "outputs": [
    {
     "data": {
      "application/vnd.jupyter.widget-view+json": {
       "model_id": "6774cc0beea2471d9f3694df298be108",
       "version_major": 2,
       "version_minor": 0
      },
      "text/plain": [
       "interactive(children=(IntSlider(value=12, description='x', max=36, min=-12), Output()), _dom_classes=('widget-…"
      ]
     },
     "metadata": {},
     "output_type": "display_data"
    }
   ],
   "source": [
    "\n",
    "from ipywidgets import interact, interactive, fixed, interact_manual\n",
    "import ipywidgets as widgets\n",
    "import matplotlib.pyplot as plt\n",
    "import numpy as np\n",
    "\n",
    "\n",
    "\n",
    "def f(x):\n",
    "    return x\n",
    "\n",
    "interact(f, x=12);"
   ]
  },
  {
   "cell_type": "markdown",
   "metadata": {},
   "source": [
    "Hier kann man einen Grpahen verändern.... in Echtzeit!! O.o"
   ]
  },
  {
   "cell_type": "code",
   "execution_count": 36,
   "metadata": {
    "tags": [
     "hide_input"
    ]
   },
   "outputs": [
    {
     "data": {
      "application/vnd.jupyter.widget-view+json": {
       "model_id": "1663e81f9d7d48dcb115a8878e74d8c0",
       "version_major": 2,
       "version_minor": 0
      },
      "text/plain": [
       "interactive(children=(IntSlider(value=2, description='slope', max=5), Output()), _dom_classes=('widget-interac…"
      ]
     },
     "metadata": {},
     "output_type": "display_data"
    }
   ],
   "source": [
    "\n",
    "x = np.arange(0,20,1)\n",
    "y = 10 - x\n",
    "\n",
    "def myplt(slope):\n",
    "\n",
    "    y = 10 - slope*x\n",
    "    plt.axis([0, 20, 0, 20])\n",
    "    plt.plot(x,y)\n",
    "    \n",
    "\n",
    "\n",
    "\n",
    "interact(myplt, slope=(0,5,1));\n",
    "\n",
    "\n"
   ]
  },
  {
   "cell_type": "markdown",
   "metadata": {},
   "source": [
    "test\n",
    "test\n",
    "testtesttest\n",
    "test\n",
    "test\n",
    "test\n",
    "test\n",
    "test\n",
    "test\n",
    "test\n",
    "test\n",
    "test\n",
    "test\n",
    "test\n",
    "test\n",
    "v\n",
    "v\n",
    "v\n",
    "v\n",
    "v\n",
    "v\n",
    "v\n",
    "v\n",
    "v\n",
    "v\n",
    "vv\n",
    "v\n",
    "v\n",
    "test\n",
    "test\n",
    "test\n",
    "test\n",
    "test\n",
    "test\n",
    "v\n",
    "v\n",
    "v\n",
    "v\n",
    "v\n",
    "v\n",
    "v\n",
    "v\n",
    "v\n",
    "v\n",
    "vv\n",
    "v\n",
    "v\n",
    "test\n",
    "\n"
   ]
  }
 ],
 "metadata": {
  "celltoolbar": "Tags",
  "kernelspec": {
   "display_name": "Python 3",
   "language": "python",
   "name": "python3"
  },
  "language_info": {
   "codemirror_mode": {
    "name": "ipython",
    "version": 3
   },
   "file_extension": ".py",
   "mimetype": "text/x-python",
   "name": "python",
   "nbconvert_exporter": "python",
   "pygments_lexer": "ipython3",
   "version": "3.6.4"
  },
  "varInspector": {
   "cols": {
    "lenName": 16,
    "lenType": 16,
    "lenVar": 40
   },
   "kernels_config": {
    "python": {
     "delete_cmd_postfix": "",
     "delete_cmd_prefix": "del ",
     "library": "var_list.py",
     "varRefreshCmd": "print(var_dic_list())"
    },
    "r": {
     "delete_cmd_postfix": ") ",
     "delete_cmd_prefix": "rm(",
     "library": "var_list.r",
     "varRefreshCmd": "cat(var_dic_list()) "
    }
   },
   "types_to_exclude": [
    "module",
    "function",
    "builtin_function_or_method",
    "instance",
    "_Feature"
   ],
   "window_display": false
  }
 },
 "nbformat": 4,
 "nbformat_minor": 2
}
