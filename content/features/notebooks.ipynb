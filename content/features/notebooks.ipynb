{
 "cells": [
  {
   "cell_type": "markdown",
   "metadata": {},
   "source": [
    "# Aufgabe 1 \n",
    "Blablabla \n",
    "\n",
    "## Angebot Nachfrage \n",
    "blabla\n",
    "\n",
    "Hier kann man einen Grpahen verändern.... in Echtzeit!! O.o\n",
    "Die Geburt Ludwigs XIV. im Schloss Saint-Germain-en-Laye erschien vielen als glückliches Ereignis, denn dreiundzwanzig Jahre lang war die Ehe seiner Eltern Ludwig XIII. und Anna von Österreich ohne Nachkommen geblieben. Durch seine Geburt wurde die befürchtete Thronfolge von Gaston d'Orléans zurückgestellt. Aus Dankbarkeit erhielt der Neugeborene den Beinamen Dieudonné (der Gottgegebene). Sein Bruder, Herzog Philipp I. d’Orléans, wurde 1640 geboren und starb 1701.\n",
    "\n",
    "Schon als Vierjähriger wurde Ludwig am 14. Mai 1643 als König inthronisiert. Er lebte aber bis zu seinem dreizehnten Lebensjahr (1651) unter der Regentschaft seiner Mutter Anna von Österreich. Die tatsächliche Macht übte in dieser Zeit der „regierende Minister“ Kardinal Jules Mazarin aus. Mazarin bereitete Ludwig zielgerichtet auf seine Rolle als absolutistischer Herrscher vor. Schritt für Schritt wurde der junge König an der Macht beteiligt und teilte sich schließlich die Verantwortung mit Mazarin. Durch die außenpolitischen Erfolge der Minister-Kardinäle Richelieu und Mazarin politisch gestärkt, entfaltete Ludwig das absolutistische Königtum hochbarocker Prägung in Frankreich, mit einem Hofleben, das ganz auf die Person des Herrschers zugeschnitten war. Nach dem Westfälischen Frieden am Ende des Dreißigjährigen Krieges 1648 und dem Pyrenäenfrieden mit Spanien 1659 war Frankreich die politische und militärische Vormacht in Europa. Unterstützt von Ministern wie Colbert, Louvois, Lionne und dem Kanzler Séguier konzentrierte er den staatlichen Machtapparat und erweiterte die militärischen, institutionellen und materiellen Machtgrundlagen der französischen Monarchie. Zumindest finanziell wirkten sich die Hugenotten-Verfolgung und der Spanische Erbfolgekrieg aus. Letzterer führte durch die Härte der Kämpfe 1713 fast zu einem Staatsbankrott, der nur durch eine Finanzreform und massive Einsparungen abgewendet wurde.\n",
    "\n",
    "1660 heiratete Ludwig Maria Teresa von Spanien. Nach deren Tod im Jahr 1683 heiratete er in morganatischer Ehe insgeheim die Marquise de Maintenon. Ludwig überlebte seinen Sohn Louis, le Grand Dauphin, und seinen ältesten Enkel Louis de Bourgogne und starb am 1. September 1715. Erst sein Urenkel folgte ihm als Ludwig XV. auf den Thron. Der Leichnam Ludwigs XIV. wurde durch den Chirurgen Pierre Dionis (1643–1718) mittels Gerbsäure in Pulverform konserviert[3] und in der von ihm geschaffenen Krypta der Bourbonen in der Abtei von Saint-Denis beigesetzt. Bei der Plünderung der Königsgräber von Saint-Denis im Jahr 1793 wurde sein sehr gut erhaltener Körper mit denen anderer Könige durch Revolutionäre „profaniert“ und sogar kurzzeitig in eine Grube geworfen. Sein einbalsamiertes Herz wurde 1715 in der Jesuitenkirche Saint-Paul-Saint-Louis in der Rue St. Antoine in Paris bestattet. In der Restaurationszeit wurde es, wie alle Herzbestattungen der Angehörigen des Königshauses, in die Abtei von Saint-Denis überführt, wo es sich bis heute in der wiederhergestellten Grablege der französischen Könige in der Krypta befindet."
   ]
  },
  {
   "cell_type": "code",
   "execution_count": 40,
   "metadata": {
    "tags": [
     "interactive",
     "hide_input"
    ]
   },
   "outputs": [
    {
     "data": {
      "application/vnd.jupyter.widget-view+json": {
       "model_id": "f14661bced974f628d2a79548c6cc447",
       "version_major": 2,
       "version_minor": 0
      },
      "text/plain": [
       "interactive(children=(IntSlider(value=2, description='slope', max=5), Output()), _dom_classes=('widget-interac…"
      ]
     },
     "metadata": {},
     "output_type": "display_data"
    }
   ],
   "source": [
    "\n",
    "from ipywidgets import interact, interactive, fixed, interact_manual\n",
    "import ipywidgets as widgets\n",
    "import matplotlib.pyplot as plt\n",
    "import numpy as np\n",
    "\n",
    "x = np.arange(0,20,1)\n",
    "y = 10 - x\n",
    "\n",
    "def myplt(slope):\n",
    "\n",
    "    y = 10 - slope*x\n",
    "    plt.axis([0, 20, 0, 20])\n",
    "    plt.plot(x,y)\n",
    "    \n",
    "\n",
    "\n",
    "\n",
    "interact(myplt, slope=(0,5,1));\n",
    "\n",
    "\n",
    "\n"
   ]
  },
  {
   "cell_type": "markdown",
   "metadata": {},
   "source": [
    "Die Geburt Ludwigs XIV. im Schloss Saint-Germain-en-Laye erschien vielen als glückliches Ereignis, denn dreiundzwanzig Jahre lang war die Ehe seiner Eltern Ludwig XIII. und Anna von Österreich ohne Nachkommen geblieben. Durch seine Geburt wurde die befürchtete Thronfolge von Gaston d'Orléans zurückgestellt. Aus Dankbarkeit erhielt der Neugeborene den Beinamen Dieudonné (der Gottgegebene). Sein Bruder, Herzog Philipp I. d’Orléans, wurde 1640 geboren und starb 1701.\n",
    "\n",
    "Schon als Vierjähriger wurde Ludwig am 14. Mai 1643 als König inthronisiert. Er lebte aber bis zu seinem dreizehnten Lebensjahr (1651) unter der Regentschaft seiner Mutter Anna von Österreich. Die tatsächliche Macht übte in dieser Zeit der „regierende Minister“ Kardinal Jules Mazarin aus. Mazarin bereitete Ludwig zielgerichtet auf seine Rolle als absolutistischer Herrscher vor. Schritt für Schritt wurde der junge König an der Macht beteiligt und teilte sich schließlich die Verantwortung mit Mazarin. Durch die außenpolitischen Erfolge der Minister-Kardinäle Richelieu und Mazarin politisch gestärkt, entfaltete Ludwig das absolutistische Königtum hochbarocker Prägung in Frankreich, mit einem Hofleben, das ganz auf die Person des Herrschers zugeschnitten war. Nach dem Westfälischen Frieden am Ende des Dreißigjährigen Krieges 1648 und dem Pyrenäenfrieden mit Spanien 1659 war Frankreich die politische und militärische Vormacht in Europa. Unterstützt von Ministern wie Colbert, Louvois, Lionne und dem Kanzler Séguier konzentrierte er den staatlichen Machtapparat und erweiterte die militärischen, institutionellen und materiellen Machtgrundlagen der französischen Monarchie. Zumindest finanziell wirkten sich die Hugenotten-Verfolgung und der Spanische Erbfolgekrieg aus. Letzterer führte durch die Härte der Kämpfe 1713 fast zu einem Staatsbankrott, der nur durch eine Finanzreform und massive Einsparungen abgewendet wurde.\n",
    "\n",
    "1660 heiratete Ludwig Maria Teresa von Spanien. Nach deren Tod im Jahr 1683 heiratete er in morganatischer Ehe insgeheim die Marquise de Maintenon. Ludwig überlebte seinen Sohn Louis, le Grand Dauphin, und seinen ältesten Enkel Louis de Bourgogne und starb am 1. September 1715. Erst sein Urenkel folgte ihm als Ludwig XV. auf den Thron. Der Leichnam Ludwigs XIV. wurde durch den Chirurgen Pierre Dionis (1643–1718) mittels Gerbsäure in Pulverform konserviert[3] und in der von ihm geschaffenen Krypta der Bourbonen in der Abtei von Saint-Denis beigesetzt. Bei der Plünderung der Königsgräber von Saint-Denis im Jahr 1793 wurde sein sehr gut erhaltener Körper mit denen anderer Könige durch Revolutionäre „profaniert“ und sogar kurzzeitig in eine Grube geworfen. Sein einbalsamiertes Herz wurde 1715 in der Jesuitenkirche Saint-Paul-Saint-Louis in der Rue St. Antoine in Paris bestattet. In der Restaurationszeit wurde es, wie alle Herzbestattungen der Angehörigen des Königshauses, in die Abtei von Saint-Denis überführt, wo es sich bis heute in der wiederhergestellten Grablege der französischen Könige in der Krypta befindet."
   ]
  },
  {
   "cell_type": "code",
   "execution_count": null,
   "metadata": {
    "tags": [
     "hide_input"
    ]
   },
   "outputs": [],
   "source": [
    "\n",
    "\n"
   ]
  },
  {
   "cell_type": "markdown",
   "metadata": {},
   "source": [
    "test\n",
    "test\n",
    "testtesttest\n",
    "test\n",
    "test\n",
    "test\n",
    "test\n",
    "test\n",
    "test\n",
    "test\n",
    "test\n",
    "test\n",
    "test\n",
    "test\n",
    "test\n",
    "v\n",
    "v\n",
    "v\n",
    "v\n",
    "v\n",
    "v\n",
    "v\n",
    "v\n",
    "v\n",
    "v\n",
    "vv\n",
    "v\n",
    "v\n",
    "test\n",
    "test\n",
    "test\n",
    "test\n",
    "test\n",
    "test\n",
    "v\n",
    "v\n",
    "v\n",
    "v\n",
    "v\n",
    "v\n",
    "v\n",
    "v\n",
    "v\n",
    "v\n",
    "vv\n",
    "v\n",
    "v\n",
    "test\n",
    "\n"
   ]
  },
  {
   "cell_type": "code",
   "execution_count": null,
   "metadata": {},
   "outputs": [],
   "source": []
  }
 ],
 "metadata": {
  "celltoolbar": "Tags",
  "kernelspec": {
   "display_name": "Python 3",
   "language": "python",
   "name": "python3"
  },
  "language_info": {
   "codemirror_mode": {
    "name": "ipython",
    "version": 3
   },
   "file_extension": ".py",
   "mimetype": "text/x-python",
   "name": "python",
   "nbconvert_exporter": "python",
   "pygments_lexer": "ipython3",
   "version": "3.6.4"
  },
  "varInspector": {
   "cols": {
    "lenName": 16,
    "lenType": 16,
    "lenVar": 40
   },
   "kernels_config": {
    "python": {
     "delete_cmd_postfix": "",
     "delete_cmd_prefix": "del ",
     "library": "var_list.py",
     "varRefreshCmd": "print(var_dic_list())"
    },
    "r": {
     "delete_cmd_postfix": ") ",
     "delete_cmd_prefix": "rm(",
     "library": "var_list.r",
     "varRefreshCmd": "cat(var_dic_list()) "
    }
   },
   "types_to_exclude": [
    "module",
    "function",
    "builtin_function_or_method",
    "instance",
    "_Feature"
   ],
   "window_display": false
  }
 },
 "nbformat": 4,
 "nbformat_minor": 2
}
