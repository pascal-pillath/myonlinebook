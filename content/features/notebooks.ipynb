{
 "cells": [
  {
   "cell_type": "markdown",
   "metadata": {},
   "source": [
    "# Aufgabe 1 \n",
    "Blablabla \n",
    "\n",
    "## Angebot Nachfrage \n",
    "blabla\n",
    "\n",
    "\n",
    "\n",
    "Schon als Vierjähriger wurde Ludwig am 14. Mai 1643 als König inthronisiert. Er lebte aber bis zu seinem dreizehnten Lebensjahr (1651) unter der Regentschaft seiner Mutter Anna von Österreich. Die tatsächliche Macht übte in dieser Zeit der „regierende Minister“ Kardinal Jules Mazarin aus. Mazarin bereitete Ludwig zielgerichtet auf seine Rolle als absolutistischer Herrscher vor. Schritt für Schritt wurde der junge König an der Macht beteiligt und teilte sich schließlich die Verantwortung mit Mazarin. Durch die außenpolitischen Erfolge der Minister-Kardinäle Richelieu und Mazarin politisch gestärkt, entfaltete Ludwig das absolutistische Königtum hochbarocker Prägung in Frankreich, mit einem Hofleben, das ganz auf die Person des Herrschers zugeschnitten war. Nach dem Westfälischen Frieden am Ende des Dreißigjährigen Krieges 1648 und dem Pyrenäenfrieden mit Spanien 1659 war Frankreich die politische und militärische Vormacht in Europa. Unterstützt von Ministern wie Colbert, Louvois, Lionne und dem Kanzler Séguier konzentrierte er den staatlichen Machtapparat und erweiterte die militärischen, institutionellen und materiellen Machtgrundlagen der französischen Monarchie. Zumindest finanziell wirkten sich die Hugenotten-Verfolgung und der Spanische Erbfolgekrieg aus. Letzterer führte durch die Härte der Kämpfe 1713 fast zu einem Staatsbankrott, der nur durch eine Finanzreform und massive Einsparungen abgewendet wurde.\n",
    "\n"
   ]
  },
  {
   "cell_type": "markdown",
   "metadata": {},
   "source": [
    "Hier sehen wir die Budgetgerade. Sie kann sich verändern. Je nachdem ob sich die Preise ändern"
   ]
  },
  {
   "cell_type": "code",
   "execution_count": 48,
   "metadata": {
    "tags": [
     "interactive",
     "hide_input"
    ]
   },
   "outputs": [
    {
     "data": {
      "application/vnd.jupyter.widget-view+json": {
       "model_id": "7ea718a82bfe423e85aba4630e05cd6b",
       "version_major": 2,
       "version_minor": 0
      },
      "text/plain": [
       "interactive(children=(FloatSlider(value=2.0, description='slope', max=3.0, min=1.0, step=0.5), Output()), _dom…"
      ]
     },
     "metadata": {},
     "output_type": "display_data"
    }
   ],
   "source": [
    "\n",
    "from ipywidgets import interact, interactive, fixed, interact_manual\n",
    "import ipywidgets as widgets\n",
    "import matplotlib.pyplot as plt\n",
    "import numpy as np\n",
    "\n",
    "x = np.arange(0,20,1)\n",
    "y = 10 - x\n",
    "\n",
    "def myplt(slope):\n",
    "\n",
    "    y1 = 10 - slope*x\n",
    "    y2 = 10 - 2*slope*x\n",
    "\n",
    "    plt.axis([0, 20, 0, 12])\n",
    "    plt.plot(x,y1)\n",
    "    plt.plot(x,y2,color='red')\n",
    "    \n",
    "\n",
    "\n",
    "    \n",
    "\n",
    "\n",
    "\n",
    "interact(myplt, slope=(1,3,0.5));\n",
    "\n",
    "\n",
    "\n"
   ]
  },
  {
   "cell_type": "markdown",
   "metadata": {},
   "source": [
    "\n",
    "Schon als Vierjähriger wurde Ludwig am 14. Mai 1643 als König inthronisiert. Er lebte aber bis zu seinem dreizehnten Lebensjahr (1651) unter der Regentschaft seiner Mutter Anna von Österreich. Die tatsächliche Macht übte in dieser Zeit der „regierende Minister“ Kardinal Jules Mazarin aus. Mazarin bereitete Ludwig zielgerichtet auf seine Rolle als absolutistischer Herrscher vor. Schritt für Schritt wurde der junge König an der Macht beteiligt und teilte sich schließlich die Verantwortung mit Mazarin. Durch die außenpolitischen Erfolge der Minister-Kardinäle Richelieu und Mazarin politisch gestärkt, entfaltete Ludwig das absolutistische Königtum hochbarocker Prägung in Frankreich, mit einem Hofleben, das ganz auf die Person des Herrschers zugeschnitten war. Nach dem Westfälischen Frieden am Ende des Dreißigjährigen Krieges 1648 und dem Pyrenäenfrieden mit Spanien 1659 war Frankreich die politische und militärische Vormacht in Europa. Unterstützt von Ministern wie Colbert, Louvois, Lionne und dem Kanzler Séguier konzentrierte er den staatlichen Machtapparat und erweiterte die militärischen, institutionellen und materiellen Machtgrundlagen der französischen Monarchie. Zumindest finanziell wirkten sich die Hugenotten-Verfolgung und der Spanische Erbfolgekrieg aus. Letzterer führte durch die Härte der Kämpfe 1713 fast zu einem Staatsbankrott, der nur durch eine Finanzreform und massive Einsparungen abgewendet wurde.\n"
   ]
  },
  {
   "cell_type": "code",
   "execution_count": null,
   "metadata": {
    "tags": [
     "hide_input"
    ]
   },
   "outputs": [],
   "source": [
    "\n",
    "\n"
   ]
  },
  {
   "cell_type": "markdown",
   "metadata": {},
   "source": [
    "test\n",
    "test\n",
    "testtesttest\n",
    "test\n",
    "test\n",
    "test\n",
    "test\n",
    "test\n",
    "test\n",
    "test\n",
    "test\n",
    "test\n",
    "test\n",
    "test\n",
    "test\n",
    "v\n",
    "v\n",
    "v\n",
    "v\n",
    "v\n",
    "v\n",
    "v\n",
    "v\n",
    "v\n",
    "v\n",
    "vv\n",
    "v\n",
    "v\n",
    "test\n",
    "test\n",
    "test\n",
    "test\n",
    "test\n",
    "test\n",
    "v\n",
    "v\n",
    "v\n",
    "v\n",
    "v\n",
    "v\n",
    "v\n",
    "v\n",
    "v\n",
    "v\n",
    "vv\n",
    "v\n",
    "v\n",
    "test\n",
    "\n"
   ]
  },
  {
   "cell_type": "code",
   "execution_count": null,
   "metadata": {},
   "outputs": [],
   "source": []
  }
 ],
 "metadata": {
  "celltoolbar": "Tags",
  "kernelspec": {
   "display_name": "Python 3",
   "language": "python",
   "name": "python3"
  },
  "language_info": {
   "codemirror_mode": {
    "name": "ipython",
    "version": 3
   },
   "file_extension": ".py",
   "mimetype": "text/x-python",
   "name": "python",
   "nbconvert_exporter": "python",
   "pygments_lexer": "ipython3",
   "version": "3.6.4"
  },
  "varInspector": {
   "cols": {
    "lenName": 16,
    "lenType": 16,
    "lenVar": 40
   },
   "kernels_config": {
    "python": {
     "delete_cmd_postfix": "",
     "delete_cmd_prefix": "del ",
     "library": "var_list.py",
     "varRefreshCmd": "print(var_dic_list())"
    },
    "r": {
     "delete_cmd_postfix": ") ",
     "delete_cmd_prefix": "rm(",
     "library": "var_list.r",
     "varRefreshCmd": "cat(var_dic_list()) "
    }
   },
   "types_to_exclude": [
    "module",
    "function",
    "builtin_function_or_method",
    "instance",
    "_Feature"
   ],
   "window_display": false
  }
 },
 "nbformat": 4,
 "nbformat_minor": 2
}
