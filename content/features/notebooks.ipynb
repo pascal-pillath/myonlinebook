{
 "cells": [
  {
   "cell_type": "markdown",
   "metadata": {},
   "source": [
    "# Aufgabe 1: Optimale Entscheidung\n",
    "\n",
    "Der Student moöchte seine Durchschnittsnote maximieren. Da eine zeitliche Beschränkung besteht, nämlich die wöchentlich maximal zur Verfu ̈gung stehende Arbeitszeit, nutzen wir die Lagrange Methode.\n",
    "\n",
    "\n",
    "Nun setzen wir die gegebenen Funktionen fu ̈r $$g_1(t_1)$$ und $$g_2(t_2)$$ ein und stellen den Lagrange auf. λ ist der\n",
    "Lagrangeparameter und wird mit der so genannten Budgetbeschr ̈ankung in den Lagrange eingebracht.\n",
    "\n",
    "$$\n",
    "\\max \\frac{g_1(t_1)+g_2(t_2)}{2} \\hspace{1cm} \\text{s.t.} \\hspace{0.5cm} \\underbrace{60}_{\\text{maximal verf¸gbare Zeit}}\\geq\\underbrace{t_1+t_2}_{\\text{Summe der Ausgaben}}\n",
    "$$\n",
    "\n",
    "\n",
    "Die notwendigen Bedingungen erster Ordnung ergeben sich durch die partielle Ableitung des Lagrange nach den Entscheidungsvariablen. Der Student mo ̈chte seine Noten maximieren. Diese ha ̈ngen von der Zeit ab, die er fu ̈r das jeweilige Fach lernt. Darum leiten wir nach t1 und nach t2 ab. Nicht vergessen: Es wird immer auch nach λ abgeleitet! Die Ableitungen werden = 0 gesetzt, da wir nach Extrema suchen.\n"
   ]
  },
  {
   "cell_type": "markdown",
   "metadata": {},
   "source": [
    "Schauen wir noch einmal auf die Bedingungen erster Ordnung:\n",
    "Die 3 aus Gleichung II ist der Beitrag zur Durchschnittsnote wenn fu ̈r das Lernen fu ̈r Fach 2 marginal 2\n",
    "mehr Zeit genutzt wird.\n",
    "−1\n",
    "2 aus Gleichung I ist der marginale Beitrag zur Durchschnittsnote durch Lernen fu ̈r Fach 1.\n",
    "          Die 5t\n",
    "1\n",
    "1\n",
    "Betrachten wir noch einmal unsere Lo ̈sung. Ein Schaubild verdeutlicht dies noch einmal:\n",
    "\n",
    "(Falls das Schaubild nicht zusehen sein sollte, klicke oben auf der Seite auf \"Show Widgets\"!)"
   ]
  },
  {
   "cell_type": "code",
   "execution_count": 44,
   "metadata": {
    "tags": [
     "interactive",
     "hide_input"
    ]
   },
   "outputs": [
    {
     "data": {
      "application/vnd.jupyter.widget-view+json": {
       "model_id": "6695719fca9541b793273d35d86ee27b",
       "version_major": 2,
       "version_minor": 0
      },
      "text/plain": [
       "interactive(children=(IntSlider(value=11, description='t1', max=19, min=5, step=2), Output()), _dom_classes=('…"
      ]
     },
     "metadata": {},
     "output_type": "display_data"
    }
   ],
   "source": [
    "\n",
    "from ipywidgets import interact, interactive, fixed, interact_manual\n",
    "import ipywidgets as widgets\n",
    "import matplotlib.pyplot as plt\n",
    "\n",
    "import numpy as np\n",
    "\n",
    "\n",
    "x_max = 60\n",
    "\n",
    "\n",
    "x = np.arange(0,61,1)\n",
    "x_limit = np.arange(1,61,1)\n",
    "\n",
    "\n",
    "\n",
    "\n",
    "\n",
    "\n",
    "def myplt(t1):\n",
    "\n",
    "    g1 = 5*x_limit**(-0.5)  #define g1 line\n",
    "    g2 = 3/2+x*0    #define g2 line with +x*0, so that each x has one g2 value. otherwise the diemensions dont match later\n",
    "\n",
    "    \n",
    "    opt_x = (t1,t1)\n",
    "    opt_xy = (0,5*t1**(-0.5))\n",
    "    \n",
    "    opt_y =(5*t1**(-0.5),5*t1**(-0.5))\n",
    "\n",
    "    \n",
    "    plt.axis([0, 60, 0, 6]) #define axis dimensions\n",
    "    \n",
    "    plt.plot(x_limit,g1)    #plot the g1 line\n",
    "    plt.plot(x,g2,color='red')   #plot g2 line\n",
    "    \n",
    "\n",
    "    \n",
    "    plt.plot( (t1,t1)  ,   (0,5*t1**(-0.5))    ,color='blue', linestyle='dashed')\n",
    "    \n",
    "    plt.plot((0, t1), (5*t1**(-0.5),5*t1**(-0.5)) ,color='blue', linestyle='dashed')\n",
    "\n",
    "interact(myplt, t1=(5,19,2));\n",
    "\n",
    "\n",
    "\n"
   ]
  },
  {
   "cell_type": "markdown",
   "metadata": {},
   "source": [
    "# Aufgabe 2\n",
    "\n",
    "\n",
    "## a) TEST\n",
    "\n",
    "die anderen beiden Probleme sind identisch. "
   ]
  },
  {
   "cell_type": "markdown",
   "metadata": {},
   "source": [
    "test\n",
    "test\n",
    "testtesttest\n",
    "test\n",
    "test\n",
    "test\n",
    "test\n",
    "test\n",
    "test\n",
    "test\n",
    "test\n",
    "test\n",
    "test\n",
    "test\n",
    "test\n",
    "v\n",
    "v\n",
    "v\n",
    "v\n",
    "v\n",
    "v\n",
    "v\n",
    "v\n",
    "v\n",
    "v\n",
    "vv\n",
    "v\n",
    "v\n",
    "test\n",
    "test\n",
    "test\n",
    "test\n",
    "test\n",
    "test\n",
    "v\n",
    "v\n",
    "v\n",
    "v\n",
    "v\n",
    "v\n",
    "v\n",
    "v\n",
    "v\n",
    "v\n",
    "vv\n",
    "v\n",
    "v\n",
    "test\n",
    "\n"
   ]
  },
  {
   "cell_type": "code",
   "execution_count": null,
   "metadata": {},
   "outputs": [],
   "source": []
  }
 ],
 "metadata": {
  "celltoolbar": "Tags",
  "kernelspec": {
   "display_name": "Python 3",
   "language": "python",
   "name": "python3"
  },
  "language_info": {
   "codemirror_mode": {
    "name": "ipython",
    "version": 3
   },
   "file_extension": ".py",
   "mimetype": "text/x-python",
   "name": "python",
   "nbconvert_exporter": "python",
   "pygments_lexer": "ipython3",
   "version": "3.6.4"
  },
  "varInspector": {
   "cols": {
    "lenName": 16,
    "lenType": 16,
    "lenVar": 40
   },
   "kernels_config": {
    "python": {
     "delete_cmd_postfix": "",
     "delete_cmd_prefix": "del ",
     "library": "var_list.py",
     "varRefreshCmd": "print(var_dic_list())"
    },
    "r": {
     "delete_cmd_postfix": ") ",
     "delete_cmd_prefix": "rm(",
     "library": "var_list.r",
     "varRefreshCmd": "cat(var_dic_list()) "
    }
   },
   "types_to_exclude": [
    "module",
    "function",
    "builtin_function_or_method",
    "instance",
    "_Feature"
   ],
   "window_display": false
  }
 },
 "nbformat": 4,
 "nbformat_minor": 2
}
