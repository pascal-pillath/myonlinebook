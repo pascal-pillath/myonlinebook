{
 "cells": [
  {
   "cell_type": "code",
   "execution_count": 42,
   "metadata": {
    "tags": [
     "interactive"
    ]
   },
   "outputs": [
    {
     "data": {
      "application/vnd.jupyter.widget-view+json": {
       "model_id": "0b81545cd34045438d863f602a1b6c9b",
       "version_major": 2,
       "version_minor": 0
      },
      "text/plain": [
       "Figure(axes=[Axis(label='Test X', scale=LinearScale(), tick_format='0.0f'), Axis(label='Test Y', orientation='…"
      ]
     },
     "metadata": {},
     "output_type": "display_data"
    },
    {
     "data": {
      "application/vnd.jupyter.widget-view+json": {
       "model_id": "c016f4e39aab434ebe10de8e7ecdbd58",
       "version_major": 2,
       "version_minor": 0
      },
      "text/plain": [
       "FloatSlider(value=11.11, description='Steigung', max=20.11, min=4.11, step=1.0)"
      ]
     },
     "metadata": {},
     "output_type": "display_data"
    },
    {
     "data": {
      "application/vnd.jupyter.widget-view+json": {
       "model_id": "d7830d9496774510a63e509e8e9c1012",
       "version_major": 2,
       "version_minor": 0
      },
      "text/plain": [
       "Output()"
      ]
     },
     "metadata": {},
     "output_type": "display_data"
    }
   ],
   "source": [
    "from bqplot import  LinearScale,Axis,Lines,Figure,Mark\n",
    "import numpy as np\n",
    "\n",
    "import ipywidgets as widgets\n",
    "\n",
    "\n",
    "\n",
    "\n",
    "#General Setup\n",
    "x_sc = LinearScale()\n",
    "y_sc = LinearScale()\n",
    "\n",
    "ax_x = Axis(label='Test X', scale=x_sc, tick_format='0.0f')\n",
    "ax_y = Axis(label='Test Y', scale=y_sc,\n",
    "            orientation='vertical', tick_format='0.2f')\n",
    "\n",
    "\n",
    "\n",
    "\n",
    "###Main Lines\n",
    "\n",
    "#g1\n",
    "x1=np.arange(1,61,1)\n",
    "g1 = Lines( x=x1,\n",
    "            y=5*x1**(-0.5),\n",
    "            scales={'x': x_sc, 'y': y_sc},\n",
    "            colors=['red', 'yellow'])\n",
    "\n",
    "#g2\n",
    "x2 = np.arange(0,61,1)\n",
    "g2 = Lines( x=x2,\n",
    "            y=3/2+x2*0,\n",
    "            scales={'x': x_sc, 'y': y_sc},\n",
    "            colors=['blue'])\n",
    "\n",
    "\n",
    "\n",
    "###help line (dashed)\n",
    "\n",
    "t1 = 11.11\n",
    "\n",
    "#vertical\n",
    "g_vertical = Lines( x=[t1,t1],\n",
    "            y= [0, 5*t1**(-0.5)], \n",
    "            scales={'x': x_sc, 'y': y_sc}, \n",
    "            colors=['orange'], \n",
    "            line_style ='dashed')\n",
    "\n",
    "#horizontal\n",
    "g_horiz = Lines( x=[0,t1],\n",
    "            y= [5*t1**(-0.5), 5*t1**(-0.5)], \n",
    "            scales={'x': x_sc, 'y': y_sc}, \n",
    "            colors=['orange'], \n",
    "            line_style ='dashed')\n",
    "\n",
    "\n",
    "\n",
    "\n",
    "\n",
    "\n",
    "\n",
    "\n",
    "\n",
    "fig = Figure(axes=[ax_x, ax_y], marks=[g1, g2, g_vertical, g_horiz])\n",
    "\n",
    "\n",
    "display(fig)\n",
    "\n",
    "\n",
    "\n",
    "#Section for the Interactive parameters\n",
    "\n",
    "int_range = widgets.FloatSlider(  description='Steigung',value = 11.11, min=4.11, max=20.11, step = 1)\n",
    "\n",
    "\n",
    "output2 = widgets.Output()\n",
    "display(int_range, output2)\n",
    "\n",
    "\n",
    "\n",
    "def on_value_change(change):\n",
    "    with output2:\n",
    "        \n",
    "        \n",
    "        t1 = change['new']\n",
    "        \n",
    "        g_vertical. x= [t1,t1]\n",
    "        g_vertical.y = [0, 5*t1**(-0.5)]\n",
    "        \n",
    "        \n",
    "        g_horiz. x= [0,t1]\n",
    "        g_horiz.y = [5*t1**(-0.5), 5*t1**(-0.5)]\n",
    "        \n",
    "\n",
    "        \n",
    "        \n",
    "int_range.observe(on_value_change, names='value')\n"
   ]
  },
  {
   "cell_type": "code",
   "execution_count": 18,
   "metadata": {},
   "outputs": [
    {
     "name": "stdout",
     "output_type": "stream",
     "text": [
      "[0 0]\n"
     ]
    }
   ],
   "source": [
    "print(np.repeat(0,2))"
   ]
  },
  {
   "cell_type": "code",
   "execution_count": null,
   "metadata": {},
   "outputs": [],
   "source": []
  }
 ],
 "metadata": {
  "celltoolbar": "Tags",
  "kernelspec": {
   "display_name": "Python 3",
   "language": "python",
   "name": "python3"
  },
  "language_info": {
   "codemirror_mode": {
    "name": "ipython",
    "version": 3
   },
   "file_extension": ".py",
   "mimetype": "text/x-python",
   "name": "python",
   "nbconvert_exporter": "python",
   "pygments_lexer": "ipython3",
   "version": "3.6.4"
  },
  "varInspector": {
   "cols": {
    "lenName": 16,
    "lenType": 16,
    "lenVar": 40
   },
   "kernels_config": {
    "python": {
     "delete_cmd_postfix": "",
     "delete_cmd_prefix": "del ",
     "library": "var_list.py",
     "varRefreshCmd": "print(var_dic_list())"
    },
    "r": {
     "delete_cmd_postfix": ") ",
     "delete_cmd_prefix": "rm(",
     "library": "var_list.r",
     "varRefreshCmd": "cat(var_dic_list()) "
    }
   },
   "types_to_exclude": [
    "module",
    "function",
    "builtin_function_or_method",
    "instance",
    "_Feature"
   ],
   "window_display": false
  }
 },
 "nbformat": 4,
 "nbformat_minor": 2
}
