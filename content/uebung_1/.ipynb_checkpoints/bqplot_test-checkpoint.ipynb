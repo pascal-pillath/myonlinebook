{
 "cells": [
  {
   "cell_type": "markdown",
   "metadata": {},
   "source": [
    "# Aufgabe 1 - Optimale Entscheidung\n",
    "\n",
    "Der Student möchte seine Durchschnittsnote maximieren. Da eine zeitliche Beschränkung besteht, nämlich die wöchentlich maximal zur Verfügung stehende Arbeitszeit, nutzen wir die Lagrange Methode.\n",
    "\n",
    "$$\n",
    "\\max \\frac{g_1(t_1)+g_2(t_2)}{2} \\hspace{1cm} \\text{s.t.} \\hspace{0.5cm} \\underbrace{60}_{\\text{maximal verfügbare Zeit}}\\geq\\underbrace{t_1+t_2}_{\\text{Summe der Ausgaben}}\n",
    "$$\n",
    "\n",
    "<br/><br/>\n",
    "[...] Darum leiten wir nach $t_1$ und nach $t_2$ ab. Nicht vergessen: Es wird immer auch nach $\\lambda$ abgeleitet! Die Ableitungen werden = 0 gesetzt, da wir nach Extrema suchen. [...]\n",
    "\n"
   ]
  },
  {
   "cell_type": "markdown",
   "metadata": {},
   "source": [
    "Betrachten wir noch einmal unsere Lösung. Ein Schaubild verdeutlicht dies noch einmal:\n",
    "\n"
   ]
  },
  {
   "cell_type": "code",
   "execution_count": 3,
   "metadata": {
    "tags": [
     "interactive",
     "hide_input"
    ]
   },
   "outputs": [
    {
     "data": {
      "application/vnd.jupyter.widget-view+json": {
       "model_id": "5a50e9c0a59141a8a6b29f4a7bcc85ef",
       "version_major": 2,
       "version_minor": 0
      },
      "text/plain": [
       "Figure(axes=[Axis(label='Test X', scale=LinearScale(), tick_format='0.0f'), Axis(label='Test Y', orientation='…"
      ]
     },
     "metadata": {},
     "output_type": "display_data"
    },
    {
     "data": {
      "application/vnd.jupyter.widget-view+json": {
       "model_id": "732d2a1fe95943c9be0409a82e426867",
       "version_major": 2,
       "version_minor": 0
      },
      "text/plain": [
       "FloatSlider(value=11.11, description='Steigung', max=20.11, min=4.11, step=1.0)"
      ]
     },
     "metadata": {},
     "output_type": "display_data"
    },
    {
     "data": {
      "application/vnd.jupyter.widget-view+json": {
       "model_id": "f49cd99b405c4ff4afcb9ca4101674c9",
       "version_major": 2,
       "version_minor": 0
      },
      "text/plain": [
       "Output()"
      ]
     },
     "metadata": {},
     "output_type": "display_data"
    }
   ],
   "source": [
    "from bqplot import  LinearScale,Axis,Lines,Figure,Mark\n",
    "import numpy as np\n",
    "\n",
    "import ipywidgets as widgets\n",
    "\n",
    "\n",
    "\n",
    "\n",
    "#General Setup\n",
    "x_sc = LinearScale()\n",
    "y_sc = LinearScale()\n",
    "\n",
    "ax_x = Axis(label='Test X', scale=x_sc, tick_format='0.0f')\n",
    "ax_y = Axis(label='Test Y', scale=y_sc,\n",
    "            orientation='vertical', tick_format='0.2f')\n",
    "\n",
    "\n",
    "\n",
    "\n",
    "###Main Lines\n",
    "\n",
    "#g1\n",
    "x1=np.arange(1,61,1)\n",
    "g1 = Lines( x=x1,\n",
    "            y=5*x1**(-0.5),\n",
    "            scales={'x': x_sc, 'y': y_sc},\n",
    "            colors=['red', 'yellow'])\n",
    "\n",
    "#g2\n",
    "x2 = np.arange(0,61,1)\n",
    "g2 = Lines( x=x2,\n",
    "            y=3/2+x2*0,\n",
    "            scales={'x': x_sc, 'y': y_sc},\n",
    "            colors=['blue'])\n",
    "\n",
    "\n",
    "\n",
    "###help line (dashed)\n",
    "\n",
    "t1 = 11.11\n",
    "\n",
    "#vertical\n",
    "g_vertical = Lines( x=[t1,t1],\n",
    "            y= [0, 5*t1**(-0.5)], \n",
    "            scales={'x': x_sc, 'y': y_sc}, \n",
    "            colors=['orange'], \n",
    "            line_style ='dashed')\n",
    "\n",
    "#horizontal\n",
    "g_horiz = Lines( x=[0,t1],\n",
    "            y= [5*t1**(-0.5), 5*t1**(-0.5)], \n",
    "            scales={'x': x_sc, 'y': y_sc}, \n",
    "            colors=['orange'], \n",
    "            line_style ='dashed')\n",
    "\n",
    "\n",
    "\n",
    "\n",
    "\n",
    "\n",
    "\n",
    "\n",
    "\n",
    "fig = Figure(axes=[ax_x, ax_y], marks=[g1, g2, g_vertical, g_horiz])\n",
    "\n",
    "\n",
    "display(fig)\n",
    "\n",
    "\n",
    "\n",
    "#Section for the Interactive parameters\n",
    "\n",
    "int_range = widgets.FloatSlider(  description='Steigung',value = 11.11, min=4.11, max=20.11, step = 1)\n",
    "\n",
    "\n",
    "output2 = widgets.Output()\n",
    "display(int_range, output2)\n",
    "\n",
    "\n",
    "\n",
    "def on_value_change(change):\n",
    "    with output2:\n",
    "        \n",
    "        \n",
    "        t1 = change['new']\n",
    "        \n",
    "        g_vertical. x= [t1,t1]\n",
    "        g_vertical.y = [0, 5*t1**(-0.5)]\n",
    "        \n",
    "        \n",
    "        g_horiz. x= [0,t1]\n",
    "        g_horiz.y = [5*t1**(-0.5), 5*t1**(-0.5)]\n",
    "        \n",
    "\n",
    "        \n",
    "        \n",
    "int_range.observe(on_value_change, names='value')\n"
   ]
  },
  {
   "cell_type": "code",
   "execution_count": null,
   "metadata": {},
   "outputs": [],
   "source": []
  }
 ],
 "metadata": {
  "celltoolbar": "Tags",
  "kernelspec": {
   "display_name": "Python 3",
   "language": "python",
   "name": "python3"
  },
  "language_info": {
   "codemirror_mode": {
    "name": "ipython",
    "version": 3
   },
   "file_extension": ".py",
   "mimetype": "text/x-python",
   "name": "python",
   "nbconvert_exporter": "python",
   "pygments_lexer": "ipython3",
   "version": "3.6.4"
  },
  "varInspector": {
   "cols": {
    "lenName": 16,
    "lenType": 16,
    "lenVar": 40
   },
   "kernels_config": {
    "python": {
     "delete_cmd_postfix": "",
     "delete_cmd_prefix": "del ",
     "library": "var_list.py",
     "varRefreshCmd": "print(var_dic_list())"
    },
    "r": {
     "delete_cmd_postfix": ") ",
     "delete_cmd_prefix": "rm(",
     "library": "var_list.r",
     "varRefreshCmd": "cat(var_dic_list()) "
    }
   },
   "types_to_exclude": [
    "module",
    "function",
    "builtin_function_or_method",
    "instance",
    "_Feature"
   ],
   "window_display": false
  }
 },
 "nbformat": 4,
 "nbformat_minor": 2
}
