{
 "cells": [
  {
   "cell_type": "code",
   "execution_count": 27,
   "metadata": {
    "tags": [
     "interactive"
    ]
   },
   "outputs": [
    {
     "data": {
      "application/vnd.jupyter.widget-view+json": {
       "model_id": "09b4727e04a44332bd1c09b1f09ea367",
       "version_major": 2,
       "version_minor": 0
      },
      "text/plain": [
       "VBox(children=(Figure(axes=[Axis(label='Test X', scale=LinearScale(), side='bottom', tick_format='0.0f'), Axis…"
      ]
     },
     "metadata": {},
     "output_type": "display_data"
    }
   ],
   "source": [
    "from bqplot import  *\n",
    "import numpy as np\n",
    "\n",
    "import ipywidgets as widgets\n",
    "\n",
    "\n",
    "#General Setup\n",
    "x_sc = LinearScale()\n",
    "y_sc = LinearScale()\n",
    "\n",
    "ax_x = Axis(label='Test X', scale=x_sc, tick_format='0.0f')\n",
    "ax_y = Axis(label='Test Y', scale=y_sc,\n",
    "            orientation='vertical', tick_format='0.2f')\n",
    "\n",
    "\n",
    "\n",
    "\n",
    "#Lines\n",
    "\n",
    "g1 = Lines( x=np.arange(1,61,1),\n",
    "            y=5*x**(-0.5),\n",
    "            scales={'x': x_sc, 'y': y_sc},\n",
    "            colors=['red', 'yellow'])\n",
    "\n",
    "g2 = Lines( x=np.arange(0,61,1),\n",
    "            y=3/2+x*0,\n",
    "            scales={'x': x_sc, 'y': y_sc},\n",
    "            colors=['blue'])\n",
    "\n",
    "\n",
    "\n",
    "x_data=[1,10]\n",
    "\n",
    "x_range = widgets.IntRangeSlider(value=[min(x_data),max(x_data)],\n",
    "                        min=min(x_data),\n",
    "                        max=max(x_data),\n",
    "                        step=(max(x_data) - min(x_data)) / 100,\n",
    "                        description=\"X Axis\",\n",
    "                        disabled=False,\n",
    "                        continuous_update=False,\n",
    "                        orientation='horizontal',\n",
    "                        readout=True)\n",
    "\n",
    "\n",
    "\n",
    "#fig = Figure(axes=[ax_x, ax_y], marks=[g1, g2])\n",
    "\n",
    "#display(fig)\n",
    "\n",
    "\n",
    "\n",
    "def updateXAxis(change):\n",
    "    #Update X-axis min/max value here\n",
    "    if change['type'] == 'change' and change['name'] == 'value':\n",
    "        x_sc.min = change['new'][0]\n",
    "        x_sc.max = change['new'][1]\n",
    "    \n",
    "\n",
    "x_range.observe(updateXAxis)\n",
    "\n",
    "widgets.VBox([fig, x_range])"
   ]
  },
  {
   "cell_type": "code",
   "execution_count": 28,
   "metadata": {
    "tags": [
     "interactive"
    ]
   },
   "outputs": [
    {
     "data": {
      "application/vnd.jupyter.widget-view+json": {
       "model_id": "752c1f4cb0f640a79b68159b6cc71458",
       "version_major": 2,
       "version_minor": 0
      },
      "text/plain": [
       "VBox(children=(Figure(axes=[Axis(label='X', scale=LinearScale(), tick_format='0f'), Axis(label='Y', orientatio…"
      ]
     },
     "metadata": {},
     "output_type": "display_data"
    }
   ],
   "source": [
    "import bqplot as bq \n",
    "import ipywidgets as widgets\n",
    "import numpy as np\n",
    "\n",
    "### Create random data\n",
    "size = 2000 # number of rows\n",
    "scale = 1.\n",
    "scaleLocal = 20\n",
    "np.random.seed(0)\n",
    "x_data = np.arange(size)\n",
    "y_data = np.cumsum(np.random.randn(size)  * scale) + np.random.randn(size) * scaleLocal\n",
    "\n",
    "\n",
    "x_sc = bq.LinearScale()\n",
    "y_sc = bq.LinearScale()\n",
    "\n",
    "ax_x = bq.Axis(label='X', scale=x_sc, grid_lines='solid', tick_format='0f')\n",
    "ax_y = bq.Axis(label='Y', scale=y_sc, orientation='vertical', tick_format='0.2f')\n",
    "\n",
    "line1 = bq.Lines(x=x_data, y=y_data, scales={'x': x_sc, 'y': y_sc} , colors=['blue'],display_legend = False, labels=['y1'],stroke_width = 1.0)\n",
    "\n",
    "m_fig = dict(left=100, top=50, bottom=50, right=100)\n",
    "fig = bq.Figure(axes=[ax_x, ax_y], marks=[line1], fig_margin=m_fig)\n",
    "\n",
    "x_range = widgets.IntRangeSlider(value=[min(x_data),max(x_data)],\n",
    "                        min=min(x_data),\n",
    "                        max=max(x_data),\n",
    "                        step=(max(x_data) - min(x_data)) / 100,\n",
    "                        description=\"X Axis\",\n",
    "                        disabled=False,\n",
    "                        continuous_update=False,\n",
    "                        orientation='horizontal',\n",
    "                        readout=True)\n",
    "\n",
    "def updateXAxis(change):\n",
    "    #Update X-axis min/max value here\n",
    "    if change['type'] == 'change' and change['name'] == 'value':\n",
    "        x_sc.min = change['new'][0]\n",
    "        x_sc.max = change['new'][1]\n",
    "    \n",
    "\n",
    "x_range.observe(updateXAxis)\n",
    "widgets.VBox([fig, x_range])"
   ]
  },
  {
   "cell_type": "code",
   "execution_count": null,
   "metadata": {},
   "outputs": [],
   "source": []
  }
 ],
 "metadata": {
  "celltoolbar": "Tags",
  "kernelspec": {
   "display_name": "Python 3",
   "language": "python",
   "name": "python3"
  },
  "language_info": {
   "codemirror_mode": {
    "name": "ipython",
    "version": 3
   },
   "file_extension": ".py",
   "mimetype": "text/x-python",
   "name": "python",
   "nbconvert_exporter": "python",
   "pygments_lexer": "ipython3",
   "version": "3.6.4"
  },
  "varInspector": {
   "cols": {
    "lenName": 16,
    "lenType": 16,
    "lenVar": 40
   },
   "kernels_config": {
    "python": {
     "delete_cmd_postfix": "",
     "delete_cmd_prefix": "del ",
     "library": "var_list.py",
     "varRefreshCmd": "print(var_dic_list())"
    },
    "r": {
     "delete_cmd_postfix": ") ",
     "delete_cmd_prefix": "rm(",
     "library": "var_list.r",
     "varRefreshCmd": "cat(var_dic_list()) "
    }
   },
   "types_to_exclude": [
    "module",
    "function",
    "builtin_function_or_method",
    "instance",
    "_Feature"
   ],
   "window_display": false
  }
 },
 "nbformat": 4,
 "nbformat_minor": 2
}
