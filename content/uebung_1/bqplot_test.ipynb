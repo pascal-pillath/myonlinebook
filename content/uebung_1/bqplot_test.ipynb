{
 "cells": [
  {
   "cell_type": "markdown",
   "metadata": {},
   "source": [
    "# Aufgabe 1 - Optimale Entscheidung\n",
    "\n",
    "Der Student möchte seine Durchschnittsnote maximieren. Da eine zeitliche Beschränkung besteht, nämlich die wöchentlich maximal zur Verfügung stehende Arbeitszeit, nutzen wir die Lagrange Methode.\n",
    "\n",
    "$$\n",
    "\\max \\frac{g_1(t_1)+g_2(t_2)}{2} \\hspace{1cm} \\text{s.t.} \\hspace{0.5cm} \\underbrace{60}_{\\text{maximal verfügbare Zeit}}\\geq\\underbrace{t_1+t_2}_{\\text{Summe der Ausgaben}}\n",
    "$$\n",
    "\n",
    "<br/><br/>\n",
    "[...] Darum leiten wir nach $t_1$ und nach $t_2$ ab. Nicht vergessen: Es wird immer auch nach $\\lambda$ abgeleitet! Die Ableitungen werden = 0 gesetzt, da wir nach Extrema suchen. [...]\n",
    "\n"
   ]
  },
  {
   "cell_type": "markdown",
   "metadata": {},
   "source": [
    "Betrachten wir noch einmal unsere Lösung. Ein Schaubild verdeutlicht dies noch einmal:\n",
    "\n"
   ]
  },
  {
   "cell_type": "code",
   "execution_count": 1,
   "metadata": {
    "tags": [
     "interactive",
     "hide_input"
    ]
   },
   "outputs": [
    {
     "data": {
      "application/vnd.jupyter.widget-view+json": {
       "model_id": "278d50833e61487b9374953064899668",
       "version_major": 2,
       "version_minor": 0
      },
      "text/plain": [
       "Figure(axes=[Axis(label='Zeit', scale=LinearScale(), tick_format='0.0f', tick_values=array([ 0, 60])), Axis(or…"
      ]
     },
     "metadata": {},
     "output_type": "display_data"
    },
    {
     "data": {
      "application/vnd.jupyter.widget-view+json": {
       "model_id": "f900b84121f14a73a73d00bac2130c71",
       "version_major": 2,
       "version_minor": 0
      },
      "text/plain": [
       "FloatSlider(value=11.11, description='t1 :', max=20.11, min=4.11, step=1.0)"
      ]
     },
     "metadata": {},
     "output_type": "display_data"
    },
    {
     "data": {
      "application/vnd.jupyter.widget-view+json": {
       "model_id": "2959cfb6291645e891e2e66f5502e849",
       "version_major": 2,
       "version_minor": 0
      },
      "text/plain": [
       "Output()"
      ]
     },
     "metadata": {},
     "output_type": "display_data"
    }
   ],
   "source": [
    "from bqplot import  LinearScale,Axis,Lines,Figure,Label\n",
    "import numpy as np\n",
    "\n",
    "import ipywidgets as widgets\n",
    "\n",
    "###General Setup\n",
    "\n",
    "# Axes\n",
    "x_sc = LinearScale()\n",
    "y_sc = LinearScale()\n",
    "\n",
    "ax_x = Axis(label='Zeit', scale=x_sc, tick_format='0.0f',tick_values =[0, 60])\n",
    "\n",
    "\n",
    "ax_y = Axis(label='', scale=y_sc,\n",
    "            orientation='vertical', tick_format='0.2f')\n",
    "\n",
    "ax_y2 = Axis(label='', scale=y_sc,\n",
    "            orientation='vertical', tick_format='0.2f', side = 'right')\n",
    "\n",
    "\n",
    "#vertical\n",
    "ax_vertical = Lines( x=[0,60],\n",
    "                    y= [0, 0], \n",
    "                    scales={'x': x_sc, 'y': y_sc}, \n",
    "                    colors=['black']\n",
    "                   )\n",
    "\n",
    "ax_hor1 = Lines( x=[0,0],\n",
    "                    y= [0, 6], \n",
    "                    scales={'x': x_sc, 'y': y_sc}, \n",
    "                    colors=['blue']\n",
    "                   )\n",
    "\n",
    "ax_hor2 = Lines( x=[60,60],\n",
    "                    y= [0, 6], \n",
    "                    scales={'x': x_sc, 'y': y_sc}, \n",
    "                    colors=['red']\n",
    "                   )\n",
    "\n",
    "\n",
    "\n",
    "\n",
    "\n",
    "\n",
    "\n",
    "\n",
    "\n",
    "###Main Lines\n",
    "\n",
    "#g1\n",
    "x1=np.arange(1,61,1)\n",
    "g1 = Lines( x=x1,\n",
    "            y=5*x1**(-0.5),\n",
    "            scales={'x': x_sc, 'y': y_sc},\n",
    "            colors=['blue', 'yellow'],\n",
    "            display_legend=True, \n",
    "            labels=['Ableitung der Durchschittsnote nach t1'])\n",
    "\n",
    "#g2\n",
    "x2 = np.arange(0,61,1)\n",
    "g2 = Lines( x=x2,\n",
    "            y=3/2+x2*0,\n",
    "            scales={'x': x_sc, 'y': y_sc},\n",
    "            colors=['red'],\n",
    "            display_legend=True, \n",
    "            labels=['Ableitung der Durchschittsnote nach t2'])\n",
    "\n",
    "\n",
    "\n",
    "###help line (dashed)\n",
    "\n",
    "t1 = 11.11\n",
    "\n",
    "#vertical\n",
    "g_vertical = Lines( x=[t1,t1],\n",
    "                    y= [0, 5*t1**(-0.5)], \n",
    "                    scales={'x': x_sc, 'y': y_sc}, \n",
    "                    colors=['orange'], \n",
    "                    line_style ='dashed')\n",
    "\n",
    "#horizontal\n",
    "g_horiz = Lines(x=[0,t1],\n",
    "                y= [5*t1**(-0.5), 5*t1**(-0.5)], \n",
    "                scales={'x': x_sc, 'y': y_sc}, \n",
    "                colors=['orange'], \n",
    "                line_style ='dashed')\n",
    "\n",
    "\n",
    "g_horiz2 = Lines(x=[t1,60],\n",
    "                y= [5*t1**(-0.5), 5*t1**(-0.5)], \n",
    "                scales={'x': x_sc, 'y': y_sc}, \n",
    "                colors=['orange'], \n",
    "                line_style ='dashed')\n",
    "\n",
    "\n",
    "\n",
    "\n",
    "\n",
    "### Text boxes\n",
    "\n",
    "lab1 = Label(x=[t1], y=[-0.3], default_size=14,font_weight='normal', colors=['black'],scales={'x': x_sc, 'y': y_sc},\n",
    "                   text=[\"t1 = \"+ str(t1)], enable_move=True, align = 'middle')\n",
    "\n",
    "lab2 = Label(x=[t1], y=[-0.7], default_size=14,font_weight='normal', colors=['black'],scales={'x': x_sc, 'y': y_sc},\n",
    "                   text=[\"t2 = \"+ str(60-t1)], enable_move=True, align = 'middle')\n",
    "\n",
    "\n",
    "\n",
    "\n",
    "\n",
    "\n",
    "\n",
    "\n",
    "\n",
    "### Show Figure\n",
    "fig = Figure(axes=[ax_x, ax_y, ax_y2], \n",
    "             marks=[ax_vertical,\n",
    "                    ax_hor1,\n",
    "                    ax_hor2, \n",
    "                    g1, \n",
    "                    g2, \n",
    "                    g_vertical, \n",
    "                    g_horiz,\n",
    "                    g_horiz2,\n",
    "                    lab1,\n",
    "                    lab2],\n",
    "\n",
    "            legend_location='top-left',\n",
    "            background_style = {'fill':'white'}\n",
    "            )\n",
    "\n",
    "\n",
    "display(fig)\n",
    "\n",
    "\n",
    "\n",
    "#Section for the Interactive parameters\n",
    "\n",
    "int_range = widgets.FloatSlider(  description='t1 :',value = 11.11, min=4.11, max=20.11, step = 1)\n",
    "output2 = widgets.Output()\n",
    "display(int_range, output2)\n",
    "\n",
    "\n",
    "def on_value_change(change):\n",
    "    with output2:\n",
    "        \n",
    "        \n",
    "        t1 = change['new']\n",
    "        \n",
    "        if t1 <= 11.11:\n",
    "            g_vertical. x= [t1,t1]\n",
    "            g_vertical.y = [0, 5*t1**(-0.5)]\n",
    "        else:\n",
    "            g_vertical. x= [t1,t1]\n",
    "            g_vertical.y = [0, 3/2]\n",
    "            \n",
    "            \n",
    "        g_horiz.x= [0,t1]\n",
    "        g_horiz.y = [5*t1**(-0.5), 5*t1**(-0.5)]\n",
    "        \n",
    "        g_horiz2. x= [t1,60]\n",
    "        \n",
    "        lab1.x =[t1]\n",
    "        lab1.text =[\"t1 = \"+str(t1)]\n",
    "        \n",
    "        lab2.x =[t1]\n",
    "        lab2.text =[\"t2 = \"+str(60 - t1)]\n",
    "        \n",
    "int_range.observe(on_value_change, names='value')\n"
   ]
  },
  {
   "cell_type": "code",
   "execution_count": null,
   "metadata": {},
   "outputs": [],
   "source": [
    "import sys\n",
    "print(sys.version)\n",
    "print(sys.executable)"
   ]
  },
  {
   "cell_type": "code",
   "execution_count": null,
   "metadata": {},
   "outputs": [],
   "source": []
  }
 ],
 "metadata": {
  "celltoolbar": "Tags",
  "kernelspec": {
   "display_name": "Python 3",
   "language": "python",
   "name": "python3"
  },
  "language_info": {
   "codemirror_mode": {
    "name": "ipython",
    "version": 3
   },
   "file_extension": ".py",
   "mimetype": "text/x-python",
   "name": "python",
   "nbconvert_exporter": "python",
   "pygments_lexer": "ipython3",
   "version": "3.6.4"
  },
  "varInspector": {
   "cols": {
    "lenName": 16,
    "lenType": 16,
    "lenVar": 40
   },
   "kernels_config": {
    "python": {
     "delete_cmd_postfix": "",
     "delete_cmd_prefix": "del ",
     "library": "var_list.py",
     "varRefreshCmd": "print(var_dic_list())"
    },
    "r": {
     "delete_cmd_postfix": ") ",
     "delete_cmd_prefix": "rm(",
     "library": "var_list.r",
     "varRefreshCmd": "cat(var_dic_list()) "
    }
   },
   "types_to_exclude": [
    "module",
    "function",
    "builtin_function_or_method",
    "instance",
    "_Feature"
   ],
   "window_display": false
  }
 },
 "nbformat": 4,
 "nbformat_minor": 2
}
